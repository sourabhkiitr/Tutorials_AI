{
  "nbformat": 4,
  "nbformat_minor": 0,
  "metadata": {
    "colab": {
      "name": "Copy of Untitled0.ipynb",
      "provenance": [],
      "collapsed_sections": [],
      "authorship_tag": "ABX9TyOUSmKcRY5seEEyFC1l2WnB",
      "include_colab_link": true
    },
    "kernelspec": {
      "name": "python3",
      "display_name": "Python 3"
    },
    "language_info": {
      "name": "python"
    }
  },
  "cells": [
    {
      "cell_type": "markdown",
      "metadata": {
        "id": "view-in-github",
        "colab_type": "text"
      },
      "source": [
        "<a href=\"https://colab.research.google.com/github/sourabhkiitr/Tutorials_AI/blob/main/Copy_of_Untitled0.ipynb\" target=\"_parent\"><img src=\"https://colab.research.google.com/assets/colab-badge.svg\" alt=\"Open In Colab\"/></a>"
      ]
    },
    {
      "cell_type": "code",
      "metadata": {
        "colab": {
          "base_uri": "https://localhost:8080/",
          "height": 135
        },
        "id": "2nNk36iyDSWT",
        "outputId": "309a15d7-66a4-4dc4-d920-0f08775f6b4b"
      },
      "source": [
        "def g()\n",
        "  print(\"function with no argumens\")\n",
        "\n",
        "#call \n",
        "\n",
        "g()\n"
      ],
      "execution_count": null,
      "outputs": [
        {
          "output_type": "error",
          "ename": "SyntaxError",
          "evalue": "ignored",
          "traceback": [
            "\u001b[0;36m  File \u001b[0;32m\"<ipython-input-4-ad0c0a0e35c1>\"\u001b[0;36m, line \u001b[0;32m1\u001b[0m\n\u001b[0;31m    def g()\u001b[0m\n\u001b[0m           ^\u001b[0m\n\u001b[0;31mSyntaxError\u001b[0m\u001b[0;31m:\u001b[0m invalid syntax\n"
          ]
        }
      ]
    },
    {
      "cell_type": "code",
      "metadata": {
        "colab": {
          "base_uri": "https://localhost:8080/"
        },
        "id": "bpfGyCd2M31G",
        "outputId": "a039f3aa-cdb0-4637-fde8-83ce5fecbf88"
      },
      "source": [
        "def f(x, y, z):\n",
        "    \n",
        "        return (x+y)/z\n",
        "\n",
        "    \n",
        "\n",
        "#call \n",
        "a=5; b=4; c=3;\n",
        "f (a, b, c)\n"
      ],
      "execution_count": null,
      "outputs": [
        {
          "output_type": "execute_result",
          "data": {
            "text/plain": [
              "3.0"
            ]
          },
          "metadata": {
            "tags": []
          },
          "execution_count": 22
        }
      ]
    },
    {
      "cell_type": "code",
      "metadata": {
        "id": "xrFfI0lEQNIs"
      },
      "source": [
        "# positional and keyword argumnets\n",
        "def h( x, y, z, w=9, t= 'aum'):\n",
        "  print( t, (x=y=z)/w)\n",
        "\n",
        "  # call\n",
        "  h(a, b, c, t= 'omkar', w= 5)"
      ],
      "execution_count": null,
      "outputs": []
    }
  ]
}