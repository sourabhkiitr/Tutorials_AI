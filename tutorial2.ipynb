{
  "nbformat": 4,
  "nbformat_minor": 0,
  "metadata": {
    "colab": {
      "name": "tutorial2.ipynb",
      "provenance": [],
      "collapsed_sections": [],
      "authorship_tag": "ABX9TyOPCK06l8L6cvyJmsWst+Rq",
      "include_colab_link": true
    },
    "kernelspec": {
      "name": "python3",
      "display_name": "Python 3"
    },
    "language_info": {
      "name": "python"
    }
  },
  "cells": [
    {
      "cell_type": "markdown",
      "metadata": {
        "id": "view-in-github",
        "colab_type": "text"
      },
      "source": [
        "<a href=\"https://colab.research.google.com/github/sourabhkiitr/Tutorials_AI/blob/main/tutorial2.ipynb\" target=\"_parent\"><img src=\"https://colab.research.google.com/assets/colab-badge.svg\" alt=\"Open In Colab\"/></a>"
      ]
    },
    {
      "cell_type": "code",
      "metadata": {
        "id": "AUs-0-HGRDd6",
        "colab": {
          "base_uri": "https://localhost:8080/"
        },
        "outputId": "047924b3-1646-42c7-e442-c5418197d587"
      },
      "source": [
        "def cube(x):\n",
        "  \"\"\" cube(value)\n",
        "  Returns the value of cube \"\"\"\n",
        "\n",
        "  return x * x * x;\n",
        "\n",
        "cube(10)\n",
        "\n",
        "print??\n",
        "cube??\n",
        "\n",
        "\n",
        "*Warning?\n",
        "\n",
        "str.*find*?\n",
        "\n",
        "#Timeit \n",
        "%timeit L = [n ** 2 for n in range(1000)]\n",
        "\n",
        "print(L)\n",
        "\n",
        "\n"
      ],
      "execution_count": 23,
      "outputs": [
        {
          "output_type": "stream",
          "text": [
            "1000 loops, best of 5: 266 µs per loop\n",
            "[1, 5, 2, 3, 4]\n"
          ],
          "name": "stdout"
        }
      ]
    },
    {
      "cell_type": "code",
      "metadata": {
        "id": "8Dz8GxiFS4El"
      },
      "source": [
        ""
      ],
      "execution_count": 23,
      "outputs": []
    }
  ]
}